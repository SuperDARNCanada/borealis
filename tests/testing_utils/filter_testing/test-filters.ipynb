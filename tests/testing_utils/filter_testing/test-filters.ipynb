{
 "cells": [
  {
   "cell_type": "code",
   "execution_count": null,
   "metadata": {},
   "outputs": [],
   "source": [
    "%matplotlib inline\n",
    "%load_ext autoreload\n",
    "%autoreload 2"
   ]
  },
  {
   "cell_type": "code",
   "execution_count": null,
   "metadata": {},
   "outputs": [],
   "source": [
    "import sys\n",
    "import matplotlib\n",
    "sys.path.append('../../../experiments/')\n",
    "import test_decimation_schemes\n",
    "from test_decimation_schemes import *"
   ]
  },
  {
   "cell_type": "code",
   "execution_count": null,
   "metadata": {},
   "outputs": [],
   "source": [
    "sys.path.append('../testing_utils/')\n",
    "from filter_tools.filter_tools import plot_filter_response"
   ]
  },
  {
   "cell_type": "code",
   "execution_count": null,
   "metadata": {},
   "outputs": [],
   "source": [
    "scheme = create_test_scheme_9()\n",
    "s_per_samples = [1.0/stage.input_rate for stage in scheme.stages]\n",
    "num_taps = [len(stage.filter_taps) for stage in scheme.stages]\n",
    "min_tap_value = [min(stage.filter_taps) for stage in scheme.stages]\n",
    "print('Min tap: {}'.format(min_tap_value))\n",
    "filter_times = [num * s_per_sample for num, s_per_sample in zip(num_taps, s_per_samples)]\n",
    "print('Filter times in seconds (should be less than 300 us preferably):\\n {}'.format(filter_times))"
   ]
  },
  {
   "cell_type": "code",
   "execution_count": null,
   "metadata": {},
   "outputs": [],
   "source": [
    "plot_filter_response(scheme.stages[0].filter_taps, 'Stage 0', 5.0e6)"
   ]
  },
  {
   "cell_type": "code",
   "execution_count": null,
   "metadata": {},
   "outputs": [],
   "source": [
    "plot_filter_response(scheme.stages[1].filter_taps, 'Stage 1', 5.0e6/scheme.stages[0].dm_rate)"
   ]
  },
  {
   "cell_type": "code",
   "execution_count": null,
   "metadata": {},
   "outputs": [],
   "source": [
    "plot_filter_response(scheme.stages[2].filter_taps, 'Stage 2', 5.0e6/scheme.stages[0].dm_rate/scheme.stages[1].dm_rate)"
   ]
  },
  {
   "cell_type": "code",
   "execution_count": null,
   "metadata": {},
   "outputs": [],
   "source": [
    "plot_filter_response(scheme.stages[3].filter_taps, 'Stage 3', 5.0e6/scheme.stages[0].dm_rate/scheme.stages[1].dm_rate/scheme.stages[2].dm_rate)"
   ]
  }
 ],
 "metadata": {
  "kernelspec": {
   "display_name": "Python 3 (ipykernel)",
   "language": "python",
   "name": "python3"
  },
  "language_info": {
   "codemirror_mode": {
    "name": "ipython",
    "version": 3
   },
   "file_extension": ".py",
   "mimetype": "text/x-python",
   "name": "python",
   "nbconvert_exporter": "python",
   "pygments_lexer": "ipython3",
   "version": "3.9.15"
  }
 },
 "nbformat": 4,
 "nbformat_minor": 4
}
